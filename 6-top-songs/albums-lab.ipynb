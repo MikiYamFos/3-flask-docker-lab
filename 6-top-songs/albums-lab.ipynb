{
  "nbformat": 4,
  "nbformat_minor": 0,
  "metadata": {
    "kernelspec": {
      "display_name": "Python 3 (ipykernel)",
      "language": "python",
      "name": "python3"
    },
    "language_info": {
      "codemirror_mode": {
        "name": "ipython",
        "version": 3
      },
      "file_extension": ".py",
      "mimetype": "text/x-python",
      "name": "python",
      "nbconvert_exporter": "python",
      "pygments_lexer": "ipython3",
      "version": "3.9.7"
    },
    "colab": {
      "name": "albums-lab.ipynb",
      "provenance": []
    }
  },
  "cells": [
    {
      "cell_type": "markdown",
      "metadata": {
        "id": "LyvuRswCAZpp"
      },
      "source": [
        "# Albums and Songs Lab"
      ]
    },
    {
      "cell_type": "markdown",
      "metadata": {
        "id": "Iwrgh47jAZpr"
      },
      "source": [
        "### Introduction"
      ]
    },
    {
      "cell_type": "markdown",
      "metadata": {
        "id": "jd55nlsBAZps"
      },
      "source": [
        "In this lesson, we'll use the skills we have learned over the past several lessons to answer questions about the top songs, artists and albums over the past fifty years."
      ]
    },
    {
      "cell_type": "markdown",
      "metadata": {
        "id": "WQab7gtcAZps"
      },
      "source": [
        "### Working with Songs"
      ]
    },
    {
      "cell_type": "markdown",
      "metadata": {
        "id": "KvbjFbBRAZps"
      },
      "source": [
        "Let's start by working with data regarding top 500 albums according to the Rolling Stone Magazine."
      ]
    },
    {
      "cell_type": "code",
      "metadata": {
        "id": "m5OXQVV2AZps"
      },
      "source": [
        "import pandas as pd\n",
        "url = \"https://raw.githubusercontent.com/data-eng-10-21/mod-1-a-data-structures/master/6-top-songs/data.csv\"\n",
        "df = pd.read_csv(url)\n",
        "albums = df.to_dict('records')"
      ],
      "execution_count": 1,
      "outputs": []
    },
    {
      "cell_type": "code",
      "metadata": {
        "id": "CU2Ncj_HAZpt"
      },
      "source": [
        "# albums[:2]"
      ],
      "execution_count": null,
      "outputs": []
    },
    {
      "cell_type": "code",
      "metadata": {
        "id": "JBD795uSAZpt",
        "outputId": "ac35dad5-4390-4669-856f-f646aafea31b"
      },
      "source": [
        "len(albums)"
      ],
      "execution_count": null,
      "outputs": [
        {
          "data": {
            "text/plain": [
              "478"
            ]
          },
          "execution_count": 6,
          "metadata": {},
          "output_type": "execute_result"
        }
      ]
    },
    {
      "cell_type": "markdown",
      "metadata": {
        "id": "68Xn123wAZpu"
      },
      "source": [
        "> Well, 478."
      ]
    },
    {
      "cell_type": "markdown",
      "metadata": {
        "id": "TjLwNldnAZpu"
      },
      "source": [
        "Let's write some functions to help us better explore the data."
      ]
    },
    {
      "cell_type": "markdown",
      "metadata": {
        "id": "5YG-d2q_AZpv"
      },
      "source": [
        "* `all_albums` - Takes an argument of albums and returns the list of album names.\n",
        "\n",
        "* `all_artists` - Takes argument of list of albums and returns a list of all artists (where each element is a string), and no artist is repeated. \n",
        "\n",
        "* `find_by_name` - Has one argument of `album_name`. Returns a dictionary of the correct album, or `None` if no album is found.\n",
        "\n",
        "* `find_by_ranks` - Takes `begin_rank` and `end_rank` as arguments.  Also possible to execute the function by just providing the `begin_rank` or `end_rank` (and not both).  If no arguments are provided the entire list of albums are returned.\n",
        "\n",
        "* `find_by_years` - Takes `begin_year` and `end_year` as arguments, and returns a list of dictionaries for albums between those years.  Also possible to execute the function by just providing the `begin_year` or `end_year` (and not both)."
      ]
    },
    {
      "cell_type": "markdown",
      "metadata": {
        "id": "DKL7vs9gAZpv"
      },
      "source": [
        "### Working with Songs"
      ]
    },
    {
      "cell_type": "markdown",
      "metadata": {
        "id": "H0p95kRdAZpv"
      },
      "source": [
        "Next, let's load up data related to songs, and data that connects albums and songs."
      ]
    },
    {
      "cell_type": "code",
      "metadata": {
        "id": "Ottas73fAZpw"
      },
      "source": [
        "import pandas as pd\n",
        "songs_url = \"https://raw.githubusercontent.com/data-eng-10-21/mod-1-a-data-structures/master/6-top-songs/top-500-songs.txt\"\n",
        "songs_df = pd.read_csv(songs_url, sep='\\t', header = None, names = ['rank', 'song', 'artist', 'year'])\n",
        "top_five_hundred_songs = songs_df.to_dict('records')\n",
        "\n",
        "track_url = \"https://raw.githubusercontent.com/data-eng-10-21/mod-1-a-data-structures/master/6-top-songs/track_data.json\"\n",
        "albums_and_tracks = pd.read_json(track_url)\n",
        "albums_tracks = albums_and_tracks.to_dict('records')"
      ],
      "execution_count": 37,
      "outputs": []
    },
    {
      "cell_type": "code",
      "metadata": {
        "id": "9L9FuvP_A2Kx"
      },
      "source": [
        "* Find the how many top five hundred songs are on each album\n",
        "\n",
        "Given an album, Sgt. Pepper's Lonely Hearts Club Band\n",
        "* Want to \n",
        "  * Go through the list top 500 songs, and count up how many times this occurs \n",
        "  Starting top 500\n",
        "  [{'artist': 'Bob Dylan', 'song': 'Like a Rolling Stone'}, {'song': 'man who sold the world', 'artist': 'nirvana'}]\n",
        "  Goal for top 500\n",
        "  [{'artist': 'Bob Dylan', 'song': 'Like a Rolling Stone', 'album': 'Rolling Stone Album'}]\n",
        "\n",
        "\n",
        "  * Album tracks - has all of the songs\n",
        "    tracks = [{'song': 'man who sold the world', 'album': 'nevermind'}]    \n"
      ],
      "execution_count": null,
      "outputs": []
    },
    {
      "cell_type": "code",
      "metadata": {
        "id": "cKeBRo0nAZpw"
      },
      "source": [
        "# albums_tracks[1]"
      ],
      "execution_count": 69,
      "outputs": []
    },
    {
      "cell_type": "code",
      "metadata": {
        "id": "p1a96vObAZpw"
      },
      "source": [
        "songs = build_songs(albums_tracks)\n",
        "\n",
        "def build_songs(albums_tracks):\n",
        "  songs = []\n",
        "  \n",
        "  for album in albums_tracks:\n",
        "    \n",
        "    tracks = build_album_songs(album) \n",
        "    songs = songs + tracks\n",
        "  return songs\n",
        "\n",
        "def build_album_songs(album):\n",
        "  album_name = album['album']\n",
        "  tracks = album_tracks(album)\n",
        "  return [{'album': album_name, 'song': track} for track in tracks]\n",
        "  \n",
        "  \n",
        "def album_tracks(album):\n",
        "  album_tracks = album['tracks']\n",
        "  return list(set([album_track.split(' -')[0].split(' (R')[0] for album_track in album_tracks]))"
      ],
      "execution_count": 73,
      "outputs": []
    },
    {
      "cell_type": "code",
      "metadata": {
        "id": "h8MJNou5D5go"
      },
      "source": [
        ""
      ],
      "execution_count": 77,
      "outputs": []
    },
    {
      "cell_type": "code",
      "metadata": {
        "id": "ZOGAeRg4GkKs"
      },
      "source": [
        "# [song['song'] for song in songs][:100]"
      ],
      "execution_count": 79,
      "outputs": []
    },
    {
      "cell_type": "code",
      "metadata": {
        "id": "IRcr-tK2Eb3L",
        "outputId": "69cfbd57-5417-4162-fbbc-c1671314290f",
        "colab": {
          "base_uri": "https://localhost:8080/"
        }
      },
      "source": [
        "[song for song in songs if song['song'] == 'Like a Rolling Stone']"
      ],
      "execution_count": 64,
      "outputs": [
        {
          "output_type": "execute_result",
          "data": {
            "text/plain": [
              "[]"
            ]
          },
          "metadata": {},
          "execution_count": 64
        }
      ]
    },
    {
      "cell_type": "code",
      "metadata": {
        "id": "GlexvMk7DvGJ",
        "outputId": "0fa75edf-2eea-4752-e34f-1573a3d87a6e",
        "colab": {
          "base_uri": "https://localhost:8080/"
        }
      },
      "source": [
        "top_five_hund_song = top_five_hundred_songs[0]\n",
        "top_five_hund_song"
      ],
      "execution_count": 60,
      "outputs": [
        {
          "output_type": "execute_result",
          "data": {
            "text/plain": [
              "{'artist': 'Bob Dylan',\n",
              " 'rank': 1,\n",
              " 'song': 'Like a Rolling Stone',\n",
              " 'year': 1965}"
            ]
          },
          "metadata": {},
          "execution_count": 60
        }
      ]
    },
    {
      "cell_type": "code",
      "metadata": {
        "id": "XRHLImW9Fr4E"
      },
      "source": [
        "def find_album(top_song, songs):\n",
        "  song_name = top_song['song']\n",
        "  # 'Like a Rolling Stone'\n",
        "  found_songs = [song for song in songs if song['song'] == song_name]\n",
        "  if found_songs:\n",
        "    return found_songs[0]['album']\n",
        "  else: \n",
        "    return 'N/A'"
      ],
      "execution_count": 82,
      "outputs": []
    },
    {
      "cell_type": "code",
      "metadata": {
        "id": "xEtuF4tMGPK4"
      },
      "source": [
        "new_songs = []\n",
        "for top_five_hund_song in top_five_hundred_songs:\n",
        "  new_song = top_five_hund_song.copy()\n",
        "  album_name = find_album(top_five_hund_song, songs)\n",
        "  new_song['album'] = album_name\n",
        "  new_songs.append(new_song)"
      ],
      "execution_count": 85,
      "outputs": []
    },
    {
      "cell_type": "code",
      "metadata": {
        "id": "4vFscvjLICDv"
      },
      "source": [
        "albums_for_top_five_hundred = [new_song['album'] for new_song in new_songs]\n",
        "album_histogram = dict.fromkeys(albums_for_top_five_hundred, 0)\n",
        "for album in albums_for_top_five_hundred:\n",
        "  album_histogram[album] += 1"
      ],
      "execution_count": 90,
      "outputs": []
    },
    {
      "cell_type": "code",
      "metadata": {
        "id": "54ieN0-UIW5y"
      },
      "source": [
        ""
      ],
      "execution_count": 93,
      "outputs": []
    },
    {
      "cell_type": "code",
      "metadata": {
        "id": "pP1RTJ_mIg3t"
      },
      "source": [
        ""
      ],
      "execution_count": 94,
      "outputs": []
    },
    {
      "cell_type": "code",
      "metadata": {
        "id": "CN1bLsyDImbw",
        "outputId": "abbc4e4b-24cb-4c0f-f0ba-a4a6d0dc2815",
        "colab": {
          "base_uri": "https://localhost:8080/"
        }
      },
      "source": [
        "sorted(list(album_histogram.items()), key= lambda album_count: album_count[1], reverse = True)[:3]"
      ],
      "execution_count": 97,
      "outputs": [
        {
          "output_type": "execute_result",
          "data": {
            "text/plain": [
              "[('N/A', 289), ('Elvis Presley', 6), ('The Great Twenty Eight', 5)]"
            ]
          },
          "metadata": {},
          "execution_count": 97
        }
      ]
    },
    {
      "cell_type": "code",
      "metadata": {
        "id": "P7smKvB8B5H_"
      },
      "source": [
        ""
      ],
      "execution_count": 72,
      "outputs": []
    },
    {
      "cell_type": "code",
      "metadata": {
        "id": "WYilXnrqCE-y"
      },
      "source": [
        ""
      ],
      "execution_count": 23,
      "outputs": []
    },
    {
      "cell_type": "code",
      "metadata": {
        "id": "vUFjxkS4CTHw",
        "outputId": "549fbc28-77d0-4c68-d9dd-d8cd5eea0adf",
        "colab": {
          "base_uri": "https://localhost:8080/"
        }
      },
      "source": [
        "build_album_songs(first_album)"
      ],
      "execution_count": 25,
      "outputs": [
        {
          "output_type": "execute_result",
          "data": {
            "text/plain": [
              "[{'album': \"Sgt. Pepper's Lonely Hearts Club Band\",\n",
              "  'song': 'With A Little Help From My Friends'},\n",
              " {'album': \"Sgt. Pepper's Lonely Hearts Club Band\",\n",
              "  'song': 'A Day In The Life'},\n",
              " {'album': \"Sgt. Pepper's Lonely Hearts Club Band\", 'song': 'Penny Lane'},\n",
              " {'album': \"Sgt. Pepper's Lonely Hearts Club Band\", 'song': 'Getting Better'},\n",
              " {'album': \"Sgt. Pepper's Lonely Hearts Club Band\",\n",
              "  'song': \"Sgt. Pepper's Lonely Hearts Club Band\"},\n",
              " {'album': \"Sgt. Pepper's Lonely Hearts Club Band\",\n",
              "  'song': 'Being For The Benefit Of Mr. Kite!'},\n",
              " {'album': \"Sgt. Pepper's Lonely Hearts Club Band\", 'song': 'Lovely Rita'},\n",
              " {'album': \"Sgt. Pepper's Lonely Hearts Club Band\",\n",
              "  'song': \"She's Leaving Home\"},\n",
              " {'album': \"Sgt. Pepper's Lonely Hearts Club Band\",\n",
              "  'song': 'Strawberry Fields Forever'},\n",
              " {'album': \"Sgt. Pepper's Lonely Hearts Club Band\",\n",
              "  'song': 'Good Morning Good Morning'},\n",
              " {'album': \"Sgt. Pepper's Lonely Hearts Club Band\",\n",
              "  'song': \"When I'm Sixty-Four\"},\n",
              " {'album': \"Sgt. Pepper's Lonely Hearts Club Band\",\n",
              "  'song': 'Within You Without You'},\n",
              " {'album': \"Sgt. Pepper's Lonely Hearts Club Band\",\n",
              "  'song': 'Lucy In The Sky With Diamonds'},\n",
              " {'album': \"Sgt. Pepper's Lonely Hearts Club Band\", 'song': 'Fixing A Hole'}]"
            ]
          },
          "metadata": {},
          "execution_count": 25
        }
      ]
    },
    {
      "cell_type": "markdown",
      "metadata": {
        "id": "fpeokZHuAZpw"
      },
      "source": [
        "* Write functions that perform the following: "
      ]
    },
    {
      "cell_type": "markdown",
      "metadata": {
        "id": "k0p6gE4PAZpw"
      },
      "source": [
        "`album_most_top_songs` - \n",
        "    * Returns the name of the artist and album that has that most songs featured on the top 500 songs list\n",
        "\n",
        "`top_ten_albums_by_songs` - returns a dictionary with the 10 albums that have the most songs that appear in the top songs list. The album names should be the keys and the corresponding values should be the number of songs that appear on the top 500 list."
      ]
    }
  ]
}